{
 "cells": [
  {
   "cell_type": "raw",
   "id": "cfaa5de2-bbd1-4a49-bdba-03e5fc8b0e44",
   "metadata": {},
   "source": [
    "# 1. Performance-Based Questions\n",
    "\n",
    "\n",
    "## What is the distribution of batting averages for players with over 50 matches?\n",
    "## How many players have maintained a batting average above 50 across different eras (pre-1950s, 1950s-2000s, post-2000s)?"
   ]
  },
  {
   "cell_type": "code",
   "execution_count": 1,
   "id": "e8e704c8-8f1c-4016-803b-5c11815aa465",
   "metadata": {},
   "outputs": [],
   "source": [
    "# import library"
   ]
  },
  {
   "cell_type": "code",
   "execution_count": 17,
   "id": "446fc571-b569-49c7-98a4-3d8eadf974c5",
   "metadata": {},
   "outputs": [],
   "source": [
    "import pandas as pd\n",
    "import matplotlib.pyplot as plt\n",
    "import seaborn as sns"
   ]
  },
  {
   "cell_type": "code",
   "execution_count": 18,
   "id": "4e06659a-4257-4bf0-a1f0-5f66d4ac9548",
   "metadata": {},
   "outputs": [
    {
     "data": {
      "text/plain": [
       "Index(['Player', 'Matches', 'Inns', 'Not_Outs', 'Runs', 'High_Score', 'Avg',\n",
       "       'Ball_Faced', 'Strike_Rate', '100', '50', '0', '4s', '6s', 'Debut_Year',\n",
       "       'Final_Year', 'Country', 'Career_Length'],\n",
       "      dtype='object')"
      ]
     },
     "execution_count": 18,
     "metadata": {},
     "output_type": "execute_result"
    }
   ],
   "source": [
    "# read updated csv file\n",
    "df = pd.read_csv('./CleanedDataSet.csv')\n",
    "df = df.drop(['Unnamed: 0'], axis=1) # removed unnamed column\n",
    "df.columns"
   ]
  },
  {
   "cell_type": "code",
   "execution_count": 19,
   "id": "592bf51f-2367-4b0b-a191-b024c6ccc2a8",
   "metadata": {},
   "outputs": [],
   "source": [
    "## Who has the highest batting average in Test cricket history?"
   ]
  },
  {
   "cell_type": "code",
   "execution_count": 23,
   "id": "fdf32daa-4c82-4bb2-a8e8-241062d9c244",
   "metadata": {},
   "outputs": [
    {
     "data": {
      "text/html": [
       "<div>\n",
       "<style scoped>\n",
       "    .dataframe tbody tr th:only-of-type {\n",
       "        vertical-align: middle;\n",
       "    }\n",
       "\n",
       "    .dataframe tbody tr th {\n",
       "        vertical-align: top;\n",
       "    }\n",
       "\n",
       "    .dataframe thead th {\n",
       "        text-align: right;\n",
       "    }\n",
       "</style>\n",
       "<table border=\"1\" class=\"dataframe\">\n",
       "  <thead>\n",
       "    <tr style=\"text-align: right;\">\n",
       "      <th></th>\n",
       "      <th>Player</th>\n",
       "      <th>Matches</th>\n",
       "      <th>Inns</th>\n",
       "      <th>Not_Outs</th>\n",
       "      <th>Runs</th>\n",
       "      <th>High_Score</th>\n",
       "      <th>Avg</th>\n",
       "      <th>Ball_Faced</th>\n",
       "      <th>Strike_Rate</th>\n",
       "      <th>100</th>\n",
       "      <th>50</th>\n",
       "      <th>0</th>\n",
       "      <th>4s</th>\n",
       "      <th>6s</th>\n",
       "      <th>Debut_Year</th>\n",
       "      <th>Final_Year</th>\n",
       "      <th>Country</th>\n",
       "      <th>Career_Length</th>\n",
       "    </tr>\n",
       "  </thead>\n",
       "  <tbody>\n",
       "    <tr>\n",
       "      <th>0</th>\n",
       "      <td>DG Bradman</td>\n",
       "      <td>52</td>\n",
       "      <td>80</td>\n",
       "      <td>10</td>\n",
       "      <td>6996</td>\n",
       "      <td>334</td>\n",
       "      <td>99.942857</td>\n",
       "      <td>9800+</td>\n",
       "      <td>58.60</td>\n",
       "      <td>29</td>\n",
       "      <td>13</td>\n",
       "      <td>7</td>\n",
       "      <td>626</td>\n",
       "      <td>6</td>\n",
       "      <td>1928</td>\n",
       "      <td>1948</td>\n",
       "      <td>AUS</td>\n",
       "      <td>20</td>\n",
       "    </tr>\n",
       "    <tr>\n",
       "      <th>1</th>\n",
       "      <td>AC Voges</td>\n",
       "      <td>20</td>\n",
       "      <td>31</td>\n",
       "      <td>7</td>\n",
       "      <td>1485</td>\n",
       "      <td>269</td>\n",
       "      <td>61.870000</td>\n",
       "      <td>2667</td>\n",
       "      <td>55.68</td>\n",
       "      <td>5</td>\n",
       "      <td>4</td>\n",
       "      <td>2</td>\n",
       "      <td>186</td>\n",
       "      <td>5</td>\n",
       "      <td>2015</td>\n",
       "      <td>2016</td>\n",
       "      <td>AUS</td>\n",
       "      <td>1</td>\n",
       "    </tr>\n",
       "  </tbody>\n",
       "</table>\n",
       "</div>"
      ],
      "text/plain": [
       "        Player  Matches  Inns  Not_Outs  Runs  High_Score        Avg  \\\n",
       "0  DG Bradman        52    80        10  6996         334  99.942857   \n",
       "1    AC Voges        20    31         7  1485         269  61.870000   \n",
       "\n",
       "  Ball_Faced  Strike_Rate  100  50  0   4s  6s  Debut_Year  Final_Year  \\\n",
       "0      9800+        58.60   29  13  7  626   6        1928        1948   \n",
       "1       2667        55.68    5   4  2  186   5        2015        2016   \n",
       "\n",
       "  Country  Career_Length  \n",
       "0     AUS             20  \n",
       "1     AUS              1  "
      ]
     },
     "execution_count": 23,
     "metadata": {},
     "output_type": "execute_result"
    }
   ],
   "source": [
    "# Sort DataFrame by 'Avg' in descending order\n",
    "top_batsmen = df.sort_values(by=\"Avg\", ascending=False).head(10)\n",
    "top_batsmen.head(2)"
   ]
  },
  {
   "cell_type": "code",
   "execution_count": 29,
   "id": "061e268b-8c26-4e39-a160-d71a9e1a677e",
   "metadata": {},
   "outputs": [
    {
     "data": {
      "image/png": "[encoded data removed]",
      "text/plain": [
       "<Figure size 1100x500 with 1 Axes>"
      ]
     },
     "metadata": {},
     "output_type": "display_data"
    }
   ],
   "source": [
    "# Set figure size\n",
    "plt.figure(figsize=(11, 5))\n",
    "\n",
    "# Bar plot using Seaborn\n",
    "sns.barplot(\n",
    "    x=\"Avg\", \n",
    "    y=\"Player\", \n",
    "    data=top_batsmen, \n",
    "    palette=\"viridis\",\n",
    "    hue=\"Player\",\n",
    ")\n",
    "\n",
    "# Title and Labels\n",
    "plt.title(\"Top 10 Highest Career Batting Averages in Test Cricket\", fontsize=12)\n",
    "plt.xlabel(\"Batting Average\", fontsize=10)\n",
    "plt.ylabel(\"Player\", fontsize=10)\n",
    "\n",
    "# Show exact values on bars\n",
    "for index, value in enumerate(top_batsmen[\"Avg\"]):\n",
    "    plt.text(value + 1, index, f\"{value:.2f}\", va=\"center\", fontsize=8)\n",
    "\n",
    "plt.show()"
   ]
  },
  {
   "cell_type": "code",
   "execution_count": null,
   "id": "3ba97bd2-aa16-4f93-bc34-284a7f9d17ef",
   "metadata": {},
   "outputs": [],
   "source": [
    "## How does the batting average correlate with the number of matches played?"
   ]
  },
  {
   "cell_type": "code",
   "execution_count": 40,
   "id": "dc199fd5-8169-4e64-987b-6d992fae5d8d",
   "metadata": {},
   "outputs": [
    {
     "name": "stdout",
     "output_type": "stream",
     "text": [
      "Correlation Coefficient: -0.146\n"
     ]
    }
   ],
   "source": [
    "# Calculate correlation coefficient\n",
    "correlation = df[\"Matches\"].corr(df[\"Avg\"])\n",
    "print(f\"Correlation Coefficient: {correlation:.3f}\")\n",
    "\n",
    "## Correlation is negative, which means average tends to decline as player plays more matches.\n",
    "### Example: Sachin Tendulkar (avg = 52, matches = 200) and DG Bradman (avg = 99, matches = 52)\n",
    "\n",
    "## But, correlation is close to 0(zero), which means relation is weak, which further means \n",
    "## player may or may not experience low avg with more number of matches"
   ]
  },
  {
   "cell_type": "code",
   "execution_count": 41,
   "id": "be2b2118-acb7-4a29-9c7b-c28eb097b33a",
   "metadata": {},
   "outputs": [
    {
     "data": {
      "image/png": "[encoded data removed]",
      "text/plain": [
       "<Figure size 800x400 with 1 Axes>"
      ]
     },
     "metadata": {},
     "output_type": "display_data"
    }
   ],
   "source": [
    "# Set plot style for better visuals\n",
    "sns.set(style=\"whitegrid\")\n",
    "\n",
    "# Scatter plot with regression line\n",
    "plt.figure(figsize=(8, 4))\n",
    "sns.regplot(\n",
    "    x=\"Matches\", \n",
    "    y=\"Avg\", \n",
    "    data=df, \n",
    "    scatter_kws={\"color\": \"blue\", \"alpha\": 0.6}, \n",
    "    line_kws={\"color\": \"red\"}\n",
    ")\n",
    "plt.title(\"Correlation between Matches Played and Batting Average\", fontsize=12)\n",
    "plt.xlabel(\"Matches Played\", fontsize=10)\n",
    "plt.ylabel(\"Batting Average\", fontsize=10)\n",
    "plt.show()"
   ]
  },
  {
   "cell_type": "code",
   "execution_count": null,
   "id": "a7da47eb-aad2-43ea-9105-e51c640015e9",
   "metadata": {},
   "outputs": [],
   "source": [
    "## Lest split data into different groups (e.g., players with <50 Tests vs. 50+ Tests) to check if correlation changes?"
   ]
  },
  {
   "cell_type": "code",
   "execution_count": 79,
   "id": "06d0adcd-8b5f-442c-a6ce-28ca92e639a0",
   "metadata": {},
   "outputs": [
    {
     "name": "stdout",
     "output_type": "stream",
     "text": [
      "(22, 18)\n",
      "(38, 18)\n"
     ]
    }
   ],
   "source": [
    "# Splitting the data\n",
    "short_career = df[df[\"Matches\"] < 50]\n",
    "long_career = df[df[\"Matches\"] >= 50]\n",
    "long_career = long_career[long_career[\"Player\"]!=\"DG Bradman \"]\n",
    "print(short_career.shape)\n",
    "print(long_career.shape)"
   ]
  },
  {
   "cell_type": "code",
   "execution_count": 80,
   "id": "30575010-ca4a-45a1-b4fb-e5e07c0dd32a",
   "metadata": {},
   "outputs": [
    {
     "name": "stdout",
     "output_type": "stream",
     "text": [
      "Short Correlation Coefficient: 0.028, \n",
      "Long Correlation Coefficient: -0.150\n"
     ]
    }
   ],
   "source": [
    "# Calculate correlation separately\n",
    "corr_short = short_career[\"Matches\"].corr(short_career[\"Avg\"])\n",
    "corr_long = long_career[\"Matches\"].corr(long_career[\"Avg\"])\n",
    "print(f\"Short Correlation Coefficient: {corr_short:.3f}, \\nLong Correlation Coefficient: {corr_long:.3f}\")"
   ]
  },
  {
   "cell_type": "code",
   "execution_count": 83,
   "id": "a986ab55-05aa-4575-a2d6-b85a880938cf",
   "metadata": {},
   "outputs": [],
   "source": [
    "## Short term players relation is almost zero mean there there avg doest matter with number of matches they played.\n",
    "## Long term players relation is still weak negative they might notice decline in avg."
   ]
  },
  {
   "cell_type": "code",
   "execution_count": 81,
   "id": "f4b121e0-1c2e-47ed-8ebd-22996fa75bbb",
   "metadata": {},
   "outputs": [
    {
     "data": {
      "image/png": "[encoded data removed]",
      "text/plain": [
       "<Figure size 1400x600 with 2 Axes>"
      ]
     },
     "metadata": {},
     "output_type": "display_data"
    }
   ],
   "source": [
    "fig, axes = plt.subplots(1, 2, figsize=(14, 6))\n",
    "\n",
    "# Short Career Players\n",
    "sns.regplot(\n",
    "    x=\"Matches\", y=\"Avg\", data=short_career, \n",
    "    scatter_kws={\"color\": \"blue\", \"alpha\": 0.6}, \n",
    "    line_kws={\"color\": \"red\"}, ax=axes[0]\n",
    ")\n",
    "axes[0].set_title(\"Short Career Players (<50 Tests)\")\n",
    "axes[0].set_xlabel(\"Matches Played\")\n",
    "axes[0].set_ylabel(\"Batting Average\")\n",
    "\n",
    "# Long Career Players\n",
    "sns.regplot(\n",
    "    x=\"Matches\", y=\"Avg\", data=long_career, \n",
    "    scatter_kws={\"color\": \"green\", \"alpha\": 0.6}, \n",
    "    line_kws={\"color\": \"red\"}, ax=axes[1]\n",
    ")\n",
    "axes[1].set_title(\"Long Career Players (≥50 Tests)\")\n",
    "axes[1].set_xlabel(\"Matches Played\")\n",
    "axes[1].set_ylabel(\"Batting Average\")\n",
    "plt.tight_layout()\n",
    "plt.show()"
   ]
  },
  {
   "cell_type": "code",
   "execution_count": null,
   "id": "a9216c02-07bf-4dab-a284-7777a73cefec",
   "metadata": {},
   "outputs": [],
   "source": []
  },
  {
   "cell_type": "code",
   "execution_count": null,
   "id": "c536ebdf-c012-442c-89ee-92cd9831f394",
   "metadata": {},
   "outputs": [],
   "source": []
  },
  {
   "cell_type": "code",
   "execution_count": 42,
   "id": "692bd56d-547f-4959-baad-a2286debcd67",
   "metadata": {},
   "outputs": [],
   "source": [
    "## What is the average number of centuries (100s) scored by players with a batting average above 50?"
   ]
  },
  {
   "cell_type": "code",
   "execution_count": 90,
   "id": "0423b2a1-810a-4c50-8f10-c473c6eb8c60",
   "metadata": {},
   "outputs": [
    {
     "data": {
      "text/plain": [
       "(44, 18)"
      ]
     },
     "execution_count": 90,
     "metadata": {},
     "output_type": "execute_result"
    }
   ],
   "source": [
    "players_above_50_avg = df[df['Avg'] > 50]\n",
    "players_above_50_avg.shape"
   ]
  },
  {
   "cell_type": "code",
   "execution_count": 92,
   "id": "c04761fd-2d7b-495f-985e-3f7da4e2029d",
   "metadata": {},
   "outputs": [
    {
     "name": "stdout",
     "output_type": "stream",
     "text": [
      "The total number of players with a batting average >= 50 is: 44\n",
      "The average number of centuries scored by players with a batting average above 50 is: 20.82\n"
     ]
    }
   ],
   "source": [
    "average_centuries = players_above_50_avg['100'].mean()\n",
    "total_players_above_50 = len(players_above_50_avg)\n",
    "print(f\"The total number of players with a batting average >= 50 is: {total_players_above_50}\")\n",
    "print(f\"The average number of centuries scored by players with a batting average above 50 is: {average_centuries:.2f}\")"
   ]
  },
  {
   "cell_type": "code",
   "execution_count": null,
   "id": "df6567c8-55be-467f-a44f-177b3ab3c40a",
   "metadata": {},
   "outputs": [],
   "source": []
  },
  {
   "cell_type": "code",
   "execution_count": null,
   "id": "183f900f-bb21-48ff-9c77-2f355ae21a15",
   "metadata": {},
   "outputs": [],
   "source": []
  },
  {
   "cell_type": "code",
   "execution_count": null,
   "id": "1943066c-5a88-4835-8122-cd857618a7c0",
   "metadata": {},
   "outputs": [],
   "source": []
  },
  {
   "cell_type": "code",
   "execution_count": null,
   "id": "65ffed84-e904-4587-b707-a6326e27ec14",
   "metadata": {},
   "outputs": [],
   "source": []
  },
  {
   "cell_type": "code",
   "execution_count": null,
   "id": "15319e35-3e18-4b4d-abd4-2ceb65b8f89f",
   "metadata": {},
   "outputs": [],
   "source": []
  },
  {
   "cell_type": "code",
   "execution_count": null,
   "id": "54af9542-5ea2-4cc7-be5b-2d6dba073be0",
   "metadata": {},
   "outputs": [],
   "source": []
  },
  {
   "cell_type": "raw",
   "id": "daf14177-a32d-49c1-b92b-1f59be1da18f",
   "metadata": {},
   "source": [
    "2. Country-Based Analysis\n",
    "Which country has produced the most players with an average above 50?\n",
    "What is the average career batting average of players from different countries?\n",
    "How does the number of centuries (100s) vary by country?\n",
    "Which country has the highest representation in the top 50 batting averages of all time?"
   ]
  },
  {
   "cell_type": "raw",
   "id": "0d305a96-f96b-418a-a32d-eb8f1485277c",
   "metadata": {},
   "source": [
    "4. Era-Based Comparisons\n",
    "How has the average batting average changed over different decades?\n",
    "Are modern players maintaining higher or lower averages compared to players from the early 1900s?\n",
    "What are the differences in batting averages before and after 2000?"
   ]
  },
  {
   "cell_type": "raw",
   "id": "66baf146-6cd3-4042-90c2-47cf84f02c09",
   "metadata": {},
   "source": [
    "6. Century Scoring Trends\n",
    "Is there a correlation between the number of centuries (100s) and batting average?\n",
    "Do players with more centuries tend to have longer careers?\n",
    "Who has the highest centuries per match ratio?"
   ]
  },
  {
   "cell_type": "raw",
   "id": "8d86c52c-05c3-4b93-a14a-90730b3c91cf",
   "metadata": {},
   "source": [
    "7. Filtering & Ranking Questions\n",
    "Who are the top 10 players with the highest batting average but fewer than 50 matches?\n",
    "Who are the top 10 players with the highest batting average but at least 100 matches?\n",
    "Are there any players with a high average but very few innings played?"
   ]
  },
  {
   "cell_type": "code",
   "execution_count": null,
   "id": "34979d86-3e95-44b1-ab23-3b83ec97bba8",
   "metadata": {},
   "outputs": [],
   "source": []
  },
  {
   "cell_type": "code",
   "execution_count": null,
   "id": "b7ee6a12-7ba9-46fa-8c67-dd55d7c2a675",
   "metadata": {},
   "outputs": [],
   "source": []
  },
  {
   "cell_type": "code",
   "execution_count": null,
   "id": "abb0e0ed-d002-470d-a666-a1ff58fd20b9",
   "metadata": {},
   "outputs": [],
   "source": []
  },
  {
   "cell_type": "code",
   "execution_count": null,
   "id": "59363640-f26d-4561-81b8-f5c86e4e026d",
   "metadata": {},
   "outputs": [],
   "source": []
  },
  {
   "cell_type": "code",
   "execution_count": null,
   "id": "58b3485b-1761-4b03-8fa7-ac17edb39b42",
   "metadata": {},
   "outputs": [],
   "source": []
  },
  {
   "cell_type": "code",
   "execution_count": null,
   "id": "db5b5dcf-3be5-4eb0-8670-99941c21fac7",
   "metadata": {},
   "outputs": [],
   "source": []
  },
  {
   "cell_type": "code",
   "execution_count": null,
   "id": "02f2a03a-3ed8-4984-ae6c-069e1963a5c1",
   "metadata": {},
   "outputs": [],
   "source": []
  },
  {
   "cell_type": "code",
   "execution_count": null,
   "id": "20e3052e-5b88-4048-96ab-16dd4ed17b85",
   "metadata": {},
   "outputs": [],
   "source": []
  },
  {
   "cell_type": "code",
   "execution_count": null,
   "id": "e1841a77-2c16-4b21-927c-e5724c7b6151",
   "metadata": {},
   "outputs": [],
   "source": []
  },
  {
   "cell_type": "code",
   "execution_count": null,
   "id": "a392db14-9da1-43dc-bdd4-b88ec4a8f86c",
   "metadata": {},
   "outputs": [],
   "source": []
  },
  {
   "cell_type": "code",
   "execution_count": null,
   "id": "9cee4de8-3781-473d-a36e-621d5f847587",
   "metadata": {},
   "outputs": [],
   "source": []
  },
  {
   "cell_type": "code",
   "execution_count": null,
   "id": "e56327af-34dc-4d01-9b71-84acb303557b",
   "metadata": {},
   "outputs": [],
   "source": []
  },
  {
   "cell_type": "code",
   "execution_count": null,
   "id": "ff169361-e7ad-47b8-8183-26e935b9c564",
   "metadata": {},
   "outputs": [],
   "source": []
  },
  {
   "cell_type": "code",
   "execution_count": null,
   "id": "c7f02ad7-d04c-49d5-b7ea-f867876cf9d4",
   "metadata": {},
   "outputs": [],
   "source": []
  },
  {
   "cell_type": "code",
   "execution_count": null,
   "id": "1e0e4322-9369-4ffa-be79-9dfe309cdf41",
   "metadata": {},
   "outputs": [],
   "source": []
  },
  {
   "cell_type": "code",
   "execution_count": null,
   "id": "c23ef979-dfdd-450f-bf88-6ab19693a917",
   "metadata": {},
   "outputs": [],
   "source": []
  },
  {
   "cell_type": "code",
   "execution_count": null,
   "id": "08a429a2-f683-450f-9d25-2dd2448a321a",
   "metadata": {},
   "outputs": [],
   "source": []
  },
  {
   "cell_type": "code",
   "execution_count": null,
   "id": "f4d1a134-d280-4633-ba1d-74a5efd9f23d",
   "metadata": {},
   "outputs": [],
   "source": []
  },
  {
   "cell_type": "code",
   "execution_count": null,
   "id": "061e6f97-3114-49ad-ab95-bd95467456e2",
   "metadata": {},
   "outputs": [],
   "source": []
  },
  {
   "cell_type": "code",
   "execution_count": null,
   "id": "39b08296-29e4-4ded-9a71-3163c42f44c0",
   "metadata": {},
   "outputs": [],
   "source": []
  },
  {
   "cell_type": "code",
   "execution_count": null,
   "id": "e7848cb1-7f47-42cd-aa1c-77096b1b2ac9",
   "metadata": {},
   "outputs": [],
   "source": []
  },
  {
   "cell_type": "code",
   "execution_count": null,
   "id": "4cccf668-3197-42bd-b504-56d60f7f2434",
   "metadata": {},
   "outputs": [],
   "source": []
  },
  {
   "cell_type": "code",
   "execution_count": null,
   "id": "e038d819-c67a-4601-9f02-db7ca0979ee0",
   "metadata": {},
   "outputs": [],
   "source": []
  },
  {
   "cell_type": "code",
   "execution_count": null,
   "id": "782cbb8c-d771-454b-9a43-0d5c94c06496",
   "metadata": {},
   "outputs": [],
   "source": []
  },
  {
   "cell_type": "code",
   "execution_count": null,
   "id": "2e441fa3-00ad-4a7d-96bc-506ac6506453",
   "metadata": {},
   "outputs": [],
   "source": []
  },
  {
   "cell_type": "code",
   "execution_count": null,
   "id": "e1ec67a9-e875-4767-9c2b-c0cd944ee4b9",
   "metadata": {},
   "outputs": [],
   "source": []
  },
  {
   "cell_type": "code",
   "execution_count": null,
   "id": "b4274afb-2cfa-4ca0-9afe-cf87f3fd30c9",
   "metadata": {},
   "outputs": [],
   "source": []
  },
  {
   "cell_type": "code",
   "execution_count": null,
   "id": "95f9ba08-394a-4c67-a010-ce537237246f",
   "metadata": {},
   "outputs": [],
   "source": []
  },
  {
   "cell_type": "code",
   "execution_count": null,
   "id": "c77ec31d-a3e5-4377-a2f4-619171961f9b",
   "metadata": {},
   "outputs": [],
   "source": []
  },
  {
   "cell_type": "code",
   "execution_count": null,
   "id": "0e617403-8149-437d-8ecd-0c24add333bf",
   "metadata": {},
   "outputs": [],
   "source": []
  },
  {
   "cell_type": "code",
   "execution_count": null,
   "id": "0f294b5d-6b62-4fd0-9772-5b0072c18d1b",
   "metadata": {},
   "outputs": [],
   "source": []
  },
  {
   "cell_type": "code",
   "execution_count": null,
   "id": "43549761-3b95-4c21-8172-c09a31cfa987",
   "metadata": {},
   "outputs": [],
   "source": []
  },
  {
   "cell_type": "code",
   "execution_count": null,
   "id": "946e6bf2-cee3-4df9-9098-49a0264277c5",
   "metadata": {},
   "outputs": [],
   "source": []
  },
  {
   "cell_type": "code",
   "execution_count": null,
   "id": "e04db881-38f5-4b95-849e-98b21c3809e6",
   "metadata": {},
   "outputs": [],
   "source": []
  },
  {
   "cell_type": "code",
   "execution_count": null,
   "id": "2e597821-1213-457f-bbc4-9902885132e7",
   "metadata": {},
   "outputs": [],
   "source": []
  },
  {
   "cell_type": "code",
   "execution_count": null,
   "id": "076be6a6-d2a6-4d65-9243-b2c132c177fa",
   "metadata": {},
   "outputs": [],
   "source": []
  },
  {
   "cell_type": "code",
   "execution_count": null,
   "id": "5ce15871-4d08-427e-af8c-823273e5ffc9",
   "metadata": {},
   "outputs": [],
   "source": []
  },
  {
   "cell_type": "code",
   "execution_count": null,
   "id": "aa2545b8-77b1-45fb-b465-0302af4b0e7f",
   "metadata": {},
   "outputs": [],
   "source": []
  },
  {
   "cell_type": "code",
   "execution_count": null,
   "id": "7381a18d-1e2c-4e98-bbb9-6aea5aa3cf48",
   "metadata": {},
   "outputs": [],
   "source": []
  },
  {
   "cell_type": "code",
   "execution_count": null,
   "id": "3cfb94e1-3567-4e2f-80cd-696868d17bed",
   "metadata": {},
   "outputs": [],
   "source": []
  },
  {
   "cell_type": "code",
   "execution_count": null,
   "id": "5fd56cbf-f18e-434a-b736-b691d38475aa",
   "metadata": {},
   "outputs": [],
   "source": []
  },
  {
   "cell_type": "code",
   "execution_count": null,
   "id": "19e83743-b746-46b7-8971-c32674350b85",
   "metadata": {},
   "outputs": [],
   "source": []
  },
  {
   "cell_type": "code",
   "execution_count": null,
   "id": "a70a1b57-9c1d-4e48-ab3e-b5adde971f93",
   "metadata": {},
   "outputs": [],
   "source": []
  },
  {
   "cell_type": "code",
   "execution_count": null,
   "id": "4c10a793-3db1-47d8-9f4d-03d9fa7c5601",
   "metadata": {},
   "outputs": [],
   "source": []
  },
  {
   "cell_type": "code",
   "execution_count": null,
   "id": "a8cde233-1c87-453a-8bb5-66fc3d99ddff",
   "metadata": {},
   "outputs": [],
   "source": []
  },
  {
   "cell_type": "code",
   "execution_count": null,
   "id": "0617f202-02f2-4327-8931-52936d3daac8",
   "metadata": {},
   "outputs": [],
   "source": []
  },
  {
   "cell_type": "code",
   "execution_count": null,
   "id": "665b2031-4462-486f-9fa0-3b816b85c9f2",
   "metadata": {},
   "outputs": [],
   "source": []
  },
  {
   "cell_type": "code",
   "execution_count": null,
   "id": "eeb8b6dd-e969-4111-9fa5-a0720e125ee2",
   "metadata": {},
   "outputs": [],
   "source": []
  },
  {
   "cell_type": "code",
   "execution_count": null,
   "id": "a71a9c9b-4286-4637-a100-7f9bf35d81f9",
   "metadata": {},
   "outputs": [],
   "source": []
  },
  {
   "cell_type": "code",
   "execution_count": null,
   "id": "b1980f77-7584-4c0e-8ed2-576c2a8f06f0",
   "metadata": {},
   "outputs": [],
   "source": []
  },
  {
   "cell_type": "code",
   "execution_count": null,
   "id": "ad2490e5-d20c-4c0f-bcc7-4442b19ea157",
   "metadata": {},
   "outputs": [],
   "source": []
  },
  {
   "cell_type": "code",
   "execution_count": null,
   "id": "f7040265-6eb3-4575-aa06-27c3aeeeb436",
   "metadata": {},
   "outputs": [],
   "source": []
  },
  {
   "cell_type": "code",
   "execution_count": null,
   "id": "e8da0d59-6e36-4c9b-82e1-1fe21cac356f",
   "metadata": {},
   "outputs": [],
   "source": []
  },
  {
   "cell_type": "code",
   "execution_count": null,
   "id": "55a900b2-cc74-4d92-a384-e5c5c90e7167",
   "metadata": {},
   "outputs": [],
   "source": []
  },
  {
   "cell_type": "code",
   "execution_count": null,
   "id": "b89f9554-c9b8-4ffa-858a-58e5b37b5c6b",
   "metadata": {},
   "outputs": [],
   "source": []
  },
  {
   "cell_type": "code",
   "execution_count": null,
   "id": "2463ace0-7da4-4c1f-b5b5-cc7ac3d77a0e",
   "metadata": {},
   "outputs": [],
   "source": []
  },
  {
   "cell_type": "code",
   "execution_count": null,
   "id": "8e8847bf-373c-4b89-a205-9a7b197b6f4b",
   "metadata": {},
   "outputs": [],
   "source": []
  },
  {
   "cell_type": "code",
   "execution_count": null,
   "id": "0213370d-6776-4084-a414-66f0fe500d2a",
   "metadata": {},
   "outputs": [],
   "source": []
  },
  {
   "cell_type": "code",
   "execution_count": null,
   "id": "6023cac4-2331-4a56-99e0-0d064ff3fafa",
   "metadata": {},
   "outputs": [],
   "source": []
  },
  {
   "cell_type": "code",
   "execution_count": null,
   "id": "7e48d9d5-8ee4-4f41-8df7-9f9f4fe7d479",
   "metadata": {},
   "outputs": [],
   "source": []
  },
  {
   "cell_type": "code",
   "execution_count": null,
   "id": "94918043-8654-4628-abfc-f24f911cac62",
   "metadata": {},
   "outputs": [],
   "source": []
  },
  {
   "cell_type": "code",
   "execution_count": null,
   "id": "886fc63b-05b6-4c30-93b3-857d3b7d8a8f",
   "metadata": {},
   "outputs": [],
   "source": []
  },
  {
   "cell_type": "code",
   "execution_count": null,
   "id": "84c25008-58fb-4b32-9992-711871c93efa",
   "metadata": {},
   "outputs": [],
   "source": []
  },
  {
   "cell_type": "code",
   "execution_count": null,
   "id": "32b572aa-5b9e-4680-a9a9-2130c2a3b4f2",
   "metadata": {},
   "outputs": [],
   "source": []
  },
  {
   "cell_type": "code",
   "execution_count": null,
   "id": "447c1697-cead-488a-9791-c48dfa07916a",
   "metadata": {},
   "outputs": [],
   "source": []
  },
  {
   "cell_type": "code",
   "execution_count": null,
   "id": "1954c1f9-1165-451d-ae0f-de1869bbd0eb",
   "metadata": {},
   "outputs": [],
   "source": []
  },
  {
   "cell_type": "code",
   "execution_count": null,
   "id": "cb6aebdd-d485-45f0-8075-80c442681376",
   "metadata": {},
   "outputs": [],
   "source": []
  },
  {
   "cell_type": "code",
   "execution_count": null,
   "id": "05e7fbaf-f8f1-49d7-a3bb-c593116e0b6d",
   "metadata": {},
   "outputs": [],
   "source": []
  },
  {
   "cell_type": "code",
   "execution_count": null,
   "id": "bf171a7f-723b-4ed1-9130-bccb6e0d0abc",
   "metadata": {},
   "outputs": [],
   "source": []
  },
  {
   "cell_type": "code",
   "execution_count": null,
   "id": "8869744a-c38f-45ac-b02e-18ffe12d20a2",
   "metadata": {},
   "outputs": [],
   "source": []
  },
  {
   "cell_type": "code",
   "execution_count": null,
   "id": "ca74408a-feca-4d4b-b702-c4b75c4095ca",
   "metadata": {},
   "outputs": [],
   "source": []
  },
  {
   "cell_type": "code",
   "execution_count": null,
   "id": "aa4f6b36-8315-4104-b275-0390ff5af05f",
   "metadata": {},
   "outputs": [],
   "source": []
  },
  {
   "cell_type": "code",
   "execution_count": null,
   "id": "ae338da0-c274-42a2-b452-28c32158533f",
   "metadata": {},
   "outputs": [],
   "source": []
  },
  {
   "cell_type": "code",
   "execution_count": null,
   "id": "3ad5cf17-97b5-44bf-9006-0bfc568a58f8",
   "metadata": {},
   "outputs": [],
   "source": []
  },
  {
   "cell_type": "code",
   "execution_count": null,
   "id": "5d427f45-e056-4aa7-87ca-63e12181e29f",
   "metadata": {},
   "outputs": [],
   "source": []
  }
 ],
 "metadata": {
  "kernelspec": {
   "display_name": "Python 3 (ipykernel)",
   "language": "python",
   "name": "python3"
  },
  "language_info": {
   "codemirror_mode": {
    "name": "ipython",
    "version": 3
   },
   "file_extension": ".py",
   "mimetype": "text/x-python",
   "name": "python",
   "nbconvert_exporter": "python",
   "pygments_lexer": "ipython3",
   "version": "3.13.1"
  }
 },
 "nbformat": 4,
 "nbformat_minor": 5
}
